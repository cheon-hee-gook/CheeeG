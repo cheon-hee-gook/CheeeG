{
  "nbformat": 4,
  "nbformat_minor": 0,
  "metadata": {
    "colab": {
      "name": "Untitled0.ipynb",
      "provenance": [],
      "authorship_tag": "ABX9TyNi5bU6Gbc42tTJpDYQvyPa",
      "include_colab_link": true
    },
    "kernelspec": {
      "name": "python3",
      "display_name": "Python 3"
    }
  },
  "cells": [
    {
      "cell_type": "markdown",
      "metadata": {
        "id": "view-in-github",
        "colab_type": "text"
      },
      "source": [
        "<a href=\"https://colab.research.google.com/github/cheon-hee-gook/CheeeG/blob/master/Untitled0.ipynb\" target=\"_parent\"><img src=\"https://colab.research.google.com/assets/colab-badge.svg\" alt=\"Open In Colab\"/></a>"
      ]
    },
    {
      "cell_type": "markdown",
      "metadata": {
        "id": "0yFb6hu0qPWG",
        "colab_type": "text"
      },
      "source": [
        "# 1주차 과제\n",
        "-----------------------------------------------------------\n",
        "##### 주제 : 인공지능 관련 제품들과 서비스 속 적용된 인공지능 기술 분석\n",
        "-----------------------------------------------------------\n",
        "* 언어\n",
        "* 음성\n",
        "* 이미지\n",
        "* 자율주행\n",
        "\n",
        "\n"
      ]
    }
  ]
}